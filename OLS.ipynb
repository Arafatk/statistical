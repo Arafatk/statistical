{
 "cells": [
  {
   "cell_type": "markdown",
   "metadata": {},
   "source": [
    "A simple Example of Ordinary least squares"
   ]
  },
  {
   "cell_type": "code",
   "execution_count": 48,
   "metadata": {
    "collapsed": false
   },
   "outputs": [
    {
     "name": "stdout",
     "output_type": "stream",
     "text": [
      "slope  0.654036161731  y- Intercept  -1.7197679385\n",
      "Result using least squares solver [ 0.65403616 -1.71976794]\n",
      "Result using pseudo inverse [ 0.65403616 -1.71976794]\n",
      "Result using direct formula  [ 0.65403616 -1.71976794]\n"
     ]
    }
   ],
   "source": [
    "import numpy as np\n",
    "x = np.array([0, 1, 2, 3,13,14,16,26,27,28,29,21,22,40])\n",
    "y = np.array([-1, 0.2, 0.9, 2.1,5,6,5,14,18,16,18,11,12,27])\n",
    "A = np.vstack([x, np.ones(len(x))]).T\n",
    "m, c = np.linalg.lstsq(A, y)[0]\n",
    "print \"slope \", m,\" y- Intercept \", c\n",
    "import matplotlib.pyplot as plt\n",
    "plt.plot(x, y, 'o', label='Original data', markersize=10)\n",
    "plt.plot(x, m*x + c, 'r', label='Fitted line')\n",
    "plt.legend()\n",
    "plt.show()\n",
    "x= A.transpose()\n",
    "a= np.dot(A.transpose(),A)\n",
    "print \"Result using least squares solver\",np.linalg.lstsq(A, y)[0]\n",
    "print \"Result using pseudo inverse\", np.linalg.pinv(A).dot(y)\n",
    "print \"Result using direct formula \", np.dot(np.dot((np.linalg.inv(np.dot(A.transpose(),A))),A.transpose()),y)"
   ]
  }
 ],
 "metadata": {
  "kernelspec": {
   "display_name": "Python 2",
   "language": "python",
   "name": "python2"
  },
  "language_info": {
   "codemirror_mode": {
    "name": "ipython",
    "version": 2
   },
   "file_extension": ".py",
   "mimetype": "text/x-python",
   "name": "python",
   "nbconvert_exporter": "python",
   "pygments_lexer": "ipython2",
   "version": "2.7.6"
  }
 },
 "nbformat": 4,
 "nbformat_minor": 0
}
