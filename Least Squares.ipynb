{
 "cells": [
  {
   "cell_type": "code",
   "execution_count": 72,
   "metadata": {
    "collapsed": false
   },
   "outputs": [],
   "source": [
    "Here i have made a simple example to show least squares method. And also computed the residual  or\n",
    "the Coefficient of determination."
   ]
  },
  {
   "cell_type": "code",
   "execution_count": 69,
   "metadata": {
    "collapsed": false
   },
   "outputs": [
    {
     "data": {
      "text/html": [
       "<div id='vis-3e9461ef-3952-41be-b0a6-6fe35864e632'></div>\n",
       "<script>\n",
       "(function(){\n",
       "    var render = function(){\n",
       "        var model = {\"panes\":[{\"diagrams\":[{\"type\":\"scatter\",\"options\":{\"x\":\"x\",\"y\":\"y\"},\"data\":\"109d23b6-4de7-49ff-aa63-7e8f8fd8d0be\"},{\"type\":\"line\",\"options\":{\"x\":\"x\",\"y\":\"y_coords\",\"color\":\"#FF0000\"},\"data\":\"109d23b6-4de7-49ff-aa63-7e8f8fd8d0be\"}],\"options\":{\"x_label\":\"X - axis\",\"y_label\":\"Y - axis\",\"xrange\":[0,50],\"zoom\":true,\"width\":700,\"yrange\":[255.86824696802674,630]}}],\"data\":{\"109d23b6-4de7-49ff-aa63-7e8f8fd8d0be\":[{\"x\":9,\"y\":260,\"y_coords\":255.86824696802674},{\"x\":13,\"y\":320,\"y_coords\":314.2254685777291},{\"x\":21,\"y\":420,\"y_coords\":430.93991179713385},{\"x\":32,\"y\":530,\"y_coords\":591.4222712238153},{\"x\":18,\"y\":360,\"y_coords\":387.17199558985703},{\"x\":24,\"y\":470,\"y_coords\":474.7078280044106},{\"x\":32,\"y\":600,\"y_coords\":591.4222712238153},{\"x\":32,\"y\":630,\"y_coords\":591.4222712238153},{\"x\":28,\"y\":560,\"y_coords\":533.0650496141129},{\"x\":20,\"y\":440,\"y_coords\":416.3506063947082},{\"x\":15,\"y\":340,\"y_coords\":343.4040793825803}]},\"extension\":[]}\n",
       "        var id_name = '#vis-3e9461ef-3952-41be-b0a6-6fe35864e632';\n",
       "        Nyaplot.core.parse(model, id_name);\n",
       "\n",
       "        require(['downloadable'], function(downloadable){\n",
       "          var svg = d3.select(id_name).select(\"svg\");\n",
       "\t  if(!svg.empty())\n",
       "\t    svg.call(downloadable().filename('fig'));\n",
       "\t});\n",
       "    };\n",
       "    if(window['Nyaplot']==undefined){\n",
       "        window.addEventListener('load_nyaplot', render, false);\n",
       "\treturn;\n",
       "    } else {\n",
       "       render();\n",
       "    }\n",
       "})();\n",
       "</script>\n"
      ],
      "text/plain": [
       "#<Nyaplot::Frame:0x0000000075ddc0 @properties={:panes=>[#<Nyaplot::Plot:0x000000007849e8 @properties={:diagrams=>[#<Nyaplot::Diagram:0x0000000075ffa8 @properties={:type=>:scatter, :options=>{:x=>:x, :y=>:y}, :data=>\"109d23b6-4de7-49ff-aa63-7e8f8fd8d0be\"}, @xrange=[9, 32], @yrange=[260, 630]>, #<Nyaplot::Diagram:0x0000000075f508 @properties={:type=>:line, :options=>{:x=>:x, :y=>:y_coords, :color=>\"#FF0000\"}, :data=>\"109d23b6-4de7-49ff-aa63-7e8f8fd8d0be\"}, @xrange=[9, 32], @yrange=[255.86824696802674, 591.4222712238153]>], :options=>{:x_label=>\"X - axis\", :y_label=>\"Y - axis\", :xrange=>[0, 50], :zoom=>true, :width=>700, :yrange=>[255.86824696802674, 630]}}>], :data=>{\"109d23b6-4de7-49ff-aa63-7e8f8fd8d0be\"=>#<Nyaplot::DataFrame:0x00000000761920 @name=\"109d23b6-4de7-49ff-aa63-7e8f8fd8d0be\", @rows=[{:x=>9, :y=>260, :y_coords=>255.86824696802674}, {:x=>13, :y=>320, :y_coords=>314.2254685777291}, {:x=>21, :y=>420, :y_coords=>430.93991179713385}, {:x=>32, :y=>530, :y_coords=>591.4222712238153}, {:x=>18, :y=>360, :y_coords=>387.17199558985703}, {:x=>24, :y=>470, :y_coords=>474.7078280044106}, {:x=>32, :y=>600, :y_coords=>591.4222712238153}, {:x=>32, :y=>630, :y_coords=>591.4222712238153}, {:x=>28, :y=>560, :y_coords=>533.0650496141129}, {:x=>20, :y=>440, :y_coords=>416.3506063947082}, {:x=>15, :y=>340, :y_coords=>343.4040793825803}]>}, :extension=>[]}>"
      ]
     },
     "metadata": {},
     "output_type": "display_data"
    },
    {
     "name": "stdout",
     "output_type": "stream",
     "text": [
      "b\n",
      "[14.58930540242559, 124.56449834619644]\n",
      "\n",
      "Here the slope is 14.58930540242559 and the intercept is 124.56449834619644\n",
      "\n",
      "residual\n",
      "7561.466372657114"
     ]
    }
   ],
   "source": [
    "require 'daru'\n",
    "df = Daru::DataFrame.new({\n",
    "  x: [9,13 ,21 ,32 ,18, 24 ,32 ,32 ,28 ,20 ,15],\n",
    "  y: [260,320,420,530,360,470,600,630,560,440,340]\n",
    "  },\n",
    "  order: [:x, :y])\n",
    "x = N[[9,1],[13,1] ,[21,1] ,[32,1] ,[18,1],[24,1] ,[32,1] ,[32,1] ,[28,1] ,[20,1] ,[15,1]]\n",
    "y = N[[260], [320], [420], [530], [360], [470], [600], [630], [560], [440], [340]]\n",
    "b = (x.transpose.dot(x)).invert.dot(x.transpose).dot(y)  # Formula for Least squares\n",
    "slope = b[0]\n",
    "yint  = b[1]\n",
    "\n",
    "# Assign the computed Y co-ordinates of the line of best fit to a column \n",
    "# in the DataFrame called :y_coords\n",
    "df[:y_coords] = df[:x].map {|f| f*slope + yint }\n",
    "\n",
    "df.plot type: [:scatter, :line], x: [:x, :x], y: [:y, :y_coords] do |plot, diagrams|\n",
    "  plot.x_label \"X - axis\"\n",
    "  plot.y_label \"Y - axis\"\n",
    "  plot.xrange [0,50]\n",
    "  \n",
    "  scatter = diagrams[0]\n",
    "  line    = diagrams[1]\n",
    "  \n",
    "  line.color \"#FF0000\" #set color of the line to 'red'\n",
    "end\n",
    "\n",
    "residual = (x.dot(b)-y).nrm2*(x.dot(b)-y).nrm2\n",
    "print \"b\\n\",b,\"\\n\\n\"\n",
    "print \"Here the slope is \",b[0], \" and the intercept is \",b[1],\"\\n\\n\"\n",
    "print \"residual\\n\",residual"
   ]
  }
 ],
 "metadata": {
  "kernelspec": {
   "display_name": "Ruby 2.2.1",
   "language": "ruby",
   "name": "ruby"
  },
  "language_info": {
   "file_extension": ".rb",
   "mimetype": "application/x-ruby",
   "name": "ruby",
   "version": "2.2.1"
  }
 },
 "nbformat": 4,
 "nbformat_minor": 0
}
