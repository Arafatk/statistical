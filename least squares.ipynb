{
 "cells": [
  {
   "cell_type": "markdown",
   "metadata": {},
   "source": [
    "A simple Example of Ordinary least squares"
   ]
  },
  {
   "cell_type": "code",
   "execution_count": 1,
   "metadata": {
    "collapsed": false
   },
   "outputs": [
    {
     "data": {
      "application/javascript": [
       "if(window['d3'] === undefined ||\n",
       "   window['Nyaplot'] === undefined){\n",
       "    var path = {\"d3\":\"https://cdnjs.cloudflare.com/ajax/libs/d3/3.5.5/d3.min\",\"downloadable\":\"http://cdn.rawgit.com/domitry/d3-downloadable/master/d3-downloadable\"};\n",
       "\n",
       "\n",
       "\n",
       "    var shim = {\"d3\":{\"exports\":\"d3\"},\"downloadable\":{\"exports\":\"downloadable\"}};\n",
       "\n",
       "    require.config({paths: path, shim:shim});\n",
       "\n",
       "\n",
       "require(['d3'], function(d3){window['d3']=d3;console.log('finished loading d3');require(['downloadable'], function(downloadable){window['downloadable']=downloadable;console.log('finished loading downloadable');\n",
       "\n",
       "\tvar script = d3.select(\"head\")\n",
       "\t    .append(\"script\")\n",
       "\t    .attr(\"src\", \"http://cdn.rawgit.com/domitry/Nyaplotjs/master/release/nyaplot.js\")\n",
       "\t    .attr(\"async\", true);\n",
       "\n",
       "\tscript[0][0].onload = script[0][0].onreadystatechange = function(){\n",
       "\n",
       "\n",
       "\t    var event = document.createEvent(\"HTMLEvents\");\n",
       "\t    event.initEvent(\"load_nyaplot\",false,false);\n",
       "\t    window.dispatchEvent(event);\n",
       "\t    console.log('Finished loading Nyaplotjs');\n",
       "\n",
       "\t};\n",
       "\n",
       "\n",
       "});});\n",
       "}\n"
      ],
      "text/plain": [
       "\"if(window['d3'] === undefined ||\\n   window['Nyaplot'] === undefined){\\n    var path = {\\\"d3\\\":\\\"https://cdnjs.cloudflare.com/ajax/libs/d3/3.5.5/d3.min\\\",\\\"downloadable\\\":\\\"http://cdn.rawgit.com/domitry/d3-downloadable/master/d3-downloadable\\\"};\\n\\n\\n\\n    var shim = {\\\"d3\\\":{\\\"exports\\\":\\\"d3\\\"},\\\"downloadable\\\":{\\\"exports\\\":\\\"downloadable\\\"}};\\n\\n    require.config({paths: path, shim:shim});\\n\\n\\nrequire(['d3'], function(d3){window['d3']=d3;console.log('finished loading d3');require(['downloadable'], function(downloadable){window['downloadable']=downloadable;console.log('finished loading downloadable');\\n\\n\\tvar script = d3.select(\\\"head\\\")\\n\\t    .append(\\\"script\\\")\\n\\t    .attr(\\\"src\\\", \\\"http://cdn.rawgit.com/domitry/Nyaplotjs/master/release/nyaplot.js\\\")\\n\\t    .attr(\\\"async\\\", true);\\n\\n\\tscript[0][0].onload = script[0][0].onreadystatechange = function(){\\n\\n\\n\\t    var event = document.createEvent(\\\"HTMLEvents\\\");\\n\\t    event.initEvent(\\\"load_nyaplot\\\",false,false);\\n\\t    window.dispatchEvent(event);\\n\\t    console.log('Finished loading Nyaplotjs');\\n\\n\\t};\\n\\n\\n});});\\n}\\n\""
      ]
     },
     "metadata": {},
     "output_type": "display_data"
    },
    {
     "data": {
      "text/html": [
       "<div id='vis-02188110-3252-419f-a674-1621ecbc6685'></div>\n",
       "<script>\n",
       "(function(){\n",
       "    var render = function(){\n",
       "        var model = {\"panes\":[{\"diagrams\":[{\"type\":\"scatter\",\"options\":{\"x\":\"a\",\"y\":\"b\",\"tooltip_contents\":[\"burger\"]},\"data\":\"9d8ba1eb-f109-46c4-9f76-5809384197b4\"},{\"type\":\"line\",\"options\":{\"x\":\"a\",\"y\":\"y_coords\",\"color\":\"#FF0000\"},\"data\":\"9d8ba1eb-f109-46c4-9f76-5809384197b4\"}],\"options\":{\"xrange\":[0,50],\"zoom\":true,\"width\":700,\"yrange\":[-1.7197679384965892,27]}}],\"data\":{\"9d8ba1eb-f109-46c4-9f76-5809384197b4\":[{\"a\":0,\"b\":-1,\"y_coords\":-1.7197679384965892},{\"a\":1,\"b\":0.2,\"y_coords\":-1.0657317767653813},{\"a\":2,\"b\":0.9,\"y_coords\":-0.4116956150341735},{\"a\":3,\"b\":2.1,\"y_coords\":0.2423405466970343},{\"a\":13,\"b\":5,\"y_coords\":6.782702164009113},{\"a\":14,\"b\":6,\"y_coords\":7.436738325740321},{\"a\":16,\"b\":5,\"y_coords\":8.744810649202735},{\"a\":26,\"b\":14,\"y_coords\":15.285172266514815},{\"a\":27,\"b\":18,\"y_coords\":15.93920842824602},{\"a\":28,\"b\":16,\"y_coords\":16.593244589977232},{\"a\":29,\"b\":18,\"y_coords\":17.247280751708438},{\"a\":21,\"b\":11,\"y_coords\":12.014991457858775},{\"a\":22,\"b\":12,\"y_coords\":12.669027619589983},{\"a\":40,\"b\":27,\"y_coords\":24.441678530751723}]},\"extension\":[]}\n",
       "        var id_name = '#vis-02188110-3252-419f-a674-1621ecbc6685';\n",
       "        Nyaplot.core.parse(model, id_name);\n",
       "\n",
       "        require(['downloadable'], function(downloadable){\n",
       "          var svg = d3.select(id_name).select(\"svg\");\n",
       "\t  if(!svg.empty())\n",
       "\t    svg.call(downloadable().filename('fig'));\n",
       "\t});\n",
       "    };\n",
       "    if(window['Nyaplot']==undefined){\n",
       "        window.addEventListener('load_nyaplot', render, false);\n",
       "\treturn;\n",
       "    } else {\n",
       "       render();\n",
       "    }\n",
       "})();\n",
       "</script>\n"
      ],
      "text/plain": [
       "#<Nyaplot::Frame:0x0000000403edb0 @properties={:panes=>[#<Nyaplot::Plot:0x000000040aed90 @properties={:diagrams=>[#<Nyaplot::Diagram:0x0000000403f9e0 @properties={:type=>:scatter, :options=>{:x=>:a, :y=>:b, :tooltip_contents=>[:burger]}, :data=>\"9d8ba1eb-f109-46c4-9f76-5809384197b4\"}, @xrange=[0, 40], @yrange=[-1, 27]>, #<Nyaplot::Diagram:0x0000000403f3f0 @properties={:type=>:line, :options=>{:x=>:a, :y=>:y_coords, :color=>\"#FF0000\"}, :data=>\"9d8ba1eb-f109-46c4-9f76-5809384197b4\"}, @xrange=[0, 40], @yrange=[-1.7197679384965892, 24.441678530751723]>], :options=>{:xrange=>[0, 50], :zoom=>true, :width=>700, :yrange=>[-1.7197679384965892, 27]}}>], :data=>{\"9d8ba1eb-f109-46c4-9f76-5809384197b4\"=>#<Nyaplot::DataFrame:0x000000040402c8 @name=\"9d8ba1eb-f109-46c4-9f76-5809384197b4\", @rows=[{:a=>0, :b=>-1, :y_coords=>-1.7197679384965892}, {:a=>1, :b=>0.2, :y_coords=>-1.0657317767653813}, {:a=>2, :b=>0.9, :y_coords=>-0.4116956150341735}, {:a=>3, :b=>2.1, :y_coords=>0.2423405466970343}, {:a=>13, :b=>5, :y_coords=>6.782702164009113}, {:a=>14, :b=>6, :y_coords=>7.436738325740321}, {:a=>16, :b=>5, :y_coords=>8.744810649202735}, {:a=>26, :b=>14, :y_coords=>15.285172266514815}, {:a=>27, :b=>18, :y_coords=>15.93920842824602}, {:a=>28, :b=>16, :y_coords=>16.593244589977232}, {:a=>29, :b=>18, :y_coords=>17.247280751708438}, {:a=>21, :b=>11, :y_coords=>12.014991457858775}, {:a=>22, :b=>12, :y_coords=>12.669027619589983}, {:a=>40, :b=>27, :y_coords=>24.441678530751723}]>}, :extension=>[]}>"
      ]
     },
     "metadata": {},
     "output_type": "display_data"
    },
    {
     "name": "stdout",
     "output_type": "stream",
     "text": [
      "slope 0.6540361617312078\n",
      "y intercept -1.7197679384965892\n"
     ]
    }
   ],
   "source": [
    "require 'nyaplot'\n",
    "require 'nmatrix'\n",
    "require 'daru'\n",
    "a = [0,1,2,3,13,14,16,26,27,28,29,21,22,40]          # x co ordinates\n",
    "b = [-1,0.2,0.9,2.1,5,6,5,14,18,16,18,11,12,27]      # y co ordinates\n",
    "x = N[[0,1],[1,1],[2,1],[3,1],[13,1],[14,1],[16,1],[26,1],[27,1],[28,1],[29,1],[21,1],[22,1],[40,1],dtype: :float64]\n",
    "y = N[-1,0.2,0.9,2.1,5,6,5,14,18,16,18,11,12,27,dtype: :float64]\n",
    "y = y.reshape([14,1])\n",
    "t = x.dot((x.transpose.dot(x).invert.dot(x.transpose)).dot(y))\n",
    "slope = (x.transpose.dot(x).invert.dot(x.transpose)).dot(y)[0]\n",
    "yint  = (x.transpose.dot(x).invert.dot(x.transpose)).dot(y)[1]\n",
    "df = Daru::DataFrame.new({\n",
    "  a: a, \n",
    "  b: b,\n",
    "})\n",
    "df[:y_coords] = df[:a].map {|f| f*slope + yint }\n",
    "df.plot type: [:scatter, :line], x: [:a, :a], y: [:b, :y_coords] do |plot, diagrams|\n",
    "  plot.xrange [0,50]\n",
    "  \n",
    "  scatter = diagrams[0]\n",
    "  line    = diagrams[1]\n",
    "  \n",
    "  line.color \"#FF0000\" #set color of the line to 'red'\n",
    "  scatter.tooltip_contents [:burger] # set tool tip to :burger\n",
    "end\n",
    "print \"slope \",slope,\"\\n\"\n",
    "print \"y intercept \",yint,\"\\n\""
   ]
  }
 ],
 "metadata": {
  "kernelspec": {
   "display_name": "Ruby 2.2.1",
   "language": "ruby",
   "name": "ruby"
  },
  "language_info": {
   "file_extension": ".rb",
   "mimetype": "application/x-ruby",
   "name": "ruby",
   "version": "2.2.1"
  }
 },
 "nbformat": 4,
 "nbformat_minor": 0
}
